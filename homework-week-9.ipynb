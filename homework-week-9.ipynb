{
  "nbformat": 4,
  "nbformat_minor": 0,
  "metadata": {
    "colab": {
      "provenance": [],
      "include_colab_link": true
    },
    "kernelspec": {
      "name": "python3",
      "display_name": "Python 3"
    },
    "language_info": {
      "name": "python"
    }
  },
  "cells": [
    {
      "cell_type": "markdown",
      "metadata": {
        "id": "view-in-github",
        "colab_type": "text"
      },
      "source": [
        "<a href=\"https://colab.research.google.com/github/LeyanTang/ds1002-gnv2nh/blob/main/homework-week-9.ipynb\" target=\"_parent\"><img src=\"https://colab.research.google.com/assets/colab-badge.svg\" alt=\"Open In Colab\"/></a>"
      ]
    },
    {
      "cell_type": "markdown",
      "source": [
        "# Homework - Week 9\n",
        "\n",
        "Complete the following blocks as specified in the directions. Run each cell to return the desired output. Save your notebook back to your GitHub repository and submit the GitHub URL to your notebook for review."
      ],
      "metadata": {
        "id": "phbaQTT5gy8A"
      }
    },
    {
      "cell_type": "markdown",
      "source": [
        "## Functions\n",
        "\n",
        "In the cell below define a function that takes one parameter (in the form of a list) called `names` and returns a simple greeting for each name, such as\n",
        "\n",
        "    \"Hello Natasha, it's so nice to meet you\"\n",
        "    \"Hello Sid, it's so nice to meet you\"\n",
        "\n",
        "Define the function and run it, and in another cell below call the function populated with a var of a list of names."
      ],
      "metadata": {
        "id": "38Pg39pMrDua"
      }
    },
    {
      "cell_type": "code",
      "source": [
        "def greet_names(names):\n",
        "    greetings = []\n",
        "    for name in names:\n",
        "        greeting = f\"Hello {name}, it's so nice to meet you\"\n",
        "        greetings.append(greeting)\n",
        "    return greetings"
      ],
      "metadata": {
        "id": "kdFLCHtOg53p"
      },
      "execution_count": 1,
      "outputs": []
    },
    {
      "cell_type": "code",
      "source": [
        "name_list = [\"Natasha\", \"Sid\", \"Alice\", \"Bob\"]\n",
        "greetings = greet_names(name_list)\n",
        "\n",
        "for greeting in greetings:\n",
        "    print(greeting)\n"
      ],
      "metadata": {
        "id": "JlNPe_XUsmog",
        "outputId": "6d44f8f6-d463-4852-dde4-9c4aa4e32853",
        "colab": {
          "base_uri": "https://localhost:8080/"
        }
      },
      "execution_count": 2,
      "outputs": [
        {
          "output_type": "stream",
          "name": "stdout",
          "text": [
            "Hello Natasha, it's so nice to meet you\n",
            "Hello Sid, it's so nice to meet you\n",
            "Hello Alice, it's so nice to meet you\n",
            "Hello Bob, it's so nice to meet you\n"
          ]
        }
      ]
    },
    {
      "cell_type": "markdown",
      "source": [
        "Using the following list, pass it into a function you define that will evaluate the list and return a count of how many items is in it. Be creative.\n",
        "\n",
        "```\n",
        "mylist = [\"Toronto\",\"Buffalo\",\"Syracuse\",\"Albany\",\"Schenectady\",\"Brooklyn\",\"Rome\",\"Ithaca\"]\n",
        "```"
      ],
      "metadata": {
        "id": "mXqNACpkrdUZ"
      }
    },
    {
      "cell_type": "code",
      "source": [
        "def count_items(mylist):\n",
        "    return len(mylist)\n",
        "\n",
        "mylist = [\"Toronto\", \"Buffalo\", \"Syracuse\", \"Albany\", \"Schenectady\", \"Brooklyn\", \"Rome\", \"Ithaca\"]\n",
        "\n",
        "item_count = count_items(mylist)\n",
        "print(f\"There are {item_count} items in the list.\")\n"
      ],
      "metadata": {
        "id": "mvxOzRSisg0a",
        "outputId": "c466c6e4-ad32-4db7-dde1-271dac307861",
        "colab": {
          "base_uri": "https://localhost:8080/"
        }
      },
      "execution_count": 3,
      "outputs": [
        {
          "output_type": "stream",
          "name": "stdout",
          "text": [
            "There are 8 items in the list.\n"
          ]
        }
      ]
    },
    {
      "cell_type": "markdown",
      "source": [
        "## Input Validation\n",
        "\n",
        "Write a function below that defines two input parameters as `bool` and returns a `bool`.\n",
        "In the cell below that, populate two variables with two different bools (True and False)\n",
        "and pass them into a call of your function."
      ],
      "metadata": {
        "id": "YU7FXSCXsFab"
      }
    },
    {
      "cell_type": "code",
      "source": [
        "def add_these(var1: bool, var2: bool) -> bool:\n",
        "  return var1 + var2\n",
        "\n",
        "var1 = True\n",
        "var2 = False\n",
        "\n",
        "# verify the type of our two vars\n",
        "print(type(var1))\n",
        "print(type(var2))\n",
        "\n",
        "# verify the type of what is returned\n",
        "print(type(add_these(var1,var2)))"
      ],
      "metadata": {
        "id": "DGMJZjlysfHU",
        "outputId": "80b41423-219f-43ba-fed7-d1293c006442",
        "colab": {
          "base_uri": "https://localhost:8080/"
        }
      },
      "execution_count": 7,
      "outputs": [
        {
          "output_type": "stream",
          "name": "stdout",
          "text": [
            "<class 'bool'>\n",
            "<class 'bool'>\n",
            "<class 'int'>\n"
          ]
        }
      ]
    },
    {
      "cell_type": "markdown",
      "source": [
        "## Global Variables\n",
        "\n",
        "Define a global variable and populate it with a data type (int, str, bool, float, etc.)"
      ],
      "metadata": {
        "id": "xXZTr5fdsd5M"
      }
    },
    {
      "cell_type": "code",
      "source": [
        "zz = \"I like chocolate\""
      ],
      "metadata": {
        "id": "HN8CFLVRs6_L"
      },
      "execution_count": 8,
      "outputs": []
    },
    {
      "cell_type": "markdown",
      "source": [
        "Now create a function that prints out the global variable. Call the function and display the value of the var."
      ],
      "metadata": {
        "id": "G1Auc6l1s8F6"
      }
    },
    {
      "cell_type": "code",
      "source": [
        "def print_a_private_var():\n",
        "  zz = \"I like chocolate\"\n",
        "\n",
        "print_a_private_var()\n",
        "print(zz)\n"
      ],
      "metadata": {
        "id": "Q6O0Ep_wtBWJ",
        "outputId": "37082042-d182-46f9-f5af-a66c7da7c107",
        "colab": {
          "base_uri": "https://localhost:8080/"
        }
      },
      "execution_count": 9,
      "outputs": [
        {
          "output_type": "stream",
          "name": "stdout",
          "text": [
            "I like chocolate\n"
          ]
        }
      ]
    },
    {
      "cell_type": "markdown",
      "source": [
        "Now create a function that creates its own global var and populates it.\n",
        "Call the function and then print out the global var from outside of the function."
      ],
      "metadata": {
        "id": "IN2TRQI8tCC4"
      }
    },
    {
      "cell_type": "code",
      "source": [
        "def create_a_global_var():\n",
        "  global xx\n",
        "  xx = 3.1415927\n",
        "\n",
        "create_a_global_var()\n",
        "print(xx)\n"
      ],
      "metadata": {
        "id": "Oz4rnmfTtKen",
        "outputId": "fceb423b-4192-486c-f96d-b4ff6508adea",
        "colab": {
          "base_uri": "https://localhost:8080/"
        }
      },
      "execution_count": 22,
      "outputs": [
        {
          "output_type": "stream",
          "name": "stdout",
          "text": [
            "3.1415927\n"
          ]
        }
      ]
    },
    {
      "cell_type": "markdown",
      "source": [
        "Finally, write a function that updates the value of the global var you defined 3 cells above.\n",
        "\n",
        "1. Within the function, print out the global var you defined 3 cells above.\n",
        "2. Update the global var to have a new value.\n",
        "3. Within the function, print the new value of the global var.\n",
        "\n",
        "Call the function and once more print out the value of the global var from outside of the function."
      ],
      "metadata": {
        "id": "jv0dtym0tLZn"
      }
    },
    {
      "cell_type": "code",
      "source": [
        "def update_the_global():\n",
        "    global xx\n",
        "    print(f\"Global variable xx before update: {xx}\")\n",
        "    xx = 2024\n",
        "    print(f\"Global variable xx after update: {xx}\")\n",
        "\n",
        "update_the_global()\n",
        "print(xx)"
      ],
      "metadata": {
        "id": "pnX-hfKouLcG",
        "outputId": "8772cf03-bc3b-47c0-eacb-71e37581d0ca",
        "colab": {
          "base_uri": "https://localhost:8080/"
        }
      },
      "execution_count": 24,
      "outputs": [
        {
          "output_type": "stream",
          "name": "stdout",
          "text": [
            "Global variable xx before update: 3.1415927\n",
            "Global variable xx after update: 2024\n",
            "2024\n"
          ]
        }
      ]
    },
    {
      "cell_type": "code",
      "source": [],
      "metadata": {
        "id": "BmMOW1DM-Fkq"
      },
      "execution_count": null,
      "outputs": []
    }
  ]
}